{
 "cells": [
  {
   "cell_type": "markdown",
   "id": "9e03066e",
   "metadata": {},
   "source": [
    "# 1. Reading images"
   ]
  },
  {
   "cell_type": "code",
   "execution_count": 1,
   "id": "148caba7",
   "metadata": {},
   "outputs": [],
   "source": [
    "import pandas as pd\n",
    "import os\n",
    "from pathlib import Path"
   ]
  },
  {
   "cell_type": "code",
   "execution_count": 2,
   "id": "2dbf38dd",
   "metadata": {},
   "outputs": [],
   "source": [
    "# Base directory for images (they are in sub-directories with the name of each class)\n",
    "base_dir = Path(\"../data/raw-img/\")"
   ]
  },
  {
   "cell_type": "code",
   "execution_count": 3,
   "id": "7c57a5a0",
   "metadata": {},
   "outputs": [
    {
     "data": {
      "text/plain": [
       "[PosixPath('../data/raw-img/gallina'),\n",
       " PosixPath('../data/raw-img/ragno'),\n",
       " PosixPath('../data/raw-img/gatto'),\n",
       " PosixPath('../data/raw-img/farfalla'),\n",
       " PosixPath('../data/raw-img/mucca'),\n",
       " PosixPath('../data/raw-img/cavallo'),\n",
       " PosixPath('../data/raw-img/cane'),\n",
       " PosixPath('../data/raw-img/pecora'),\n",
       " PosixPath('../data/raw-img/scoiattolo'),\n",
       " PosixPath('../data/raw-img/elefante')]"
      ]
     },
     "execution_count": 3,
     "metadata": {},
     "output_type": "execute_result"
    }
   ],
   "source": [
    "# List of all sub-directories (classes)\n",
    "sub_dirs = [d for d in base_dir.iterdir() if d.is_dir()]\n",
    "sub_dirs"
   ]
  },
  {
   "cell_type": "code",
   "execution_count": 4,
   "id": "1dd2de3f",
   "metadata": {},
   "outputs": [],
   "source": [
    "# Now for each of the sub-directories, we will create a list of all the images in that directory with their paths and classes (name of the directories they are in)\n",
    "image_paths = []\n",
    "image_classes = []\n",
    "for sub_dir in sub_dirs:\n",
    "    # Get the class name from the directory name\n",
    "    class_name = sub_dir.name\n",
    "    \n",
    "    # List all image files in the directory\n",
    "    for img_file in sub_dir.iterdir():\n",
    "        if img_file.is_file() and img_file.suffix.lower() in ['.jpg', '.jpeg', '.png']:\n",
    "            image_paths.append(img_file.absolute())\n",
    "            image_classes.append(class_name)\n",
    "# Create a DataFrame with the image paths and classes\n",
    "df = pd.DataFrame({\n",
    "    'image_path': image_paths,\n",
    "    'class_name': image_classes\n",
    "})\n"
   ]
  },
  {
   "cell_type": "code",
   "execution_count": 5,
   "id": "6def87cc",
   "metadata": {},
   "outputs": [
    {
     "data": {
      "text/html": [
       "<div>\n",
       "<style scoped>\n",
       "    .dataframe tbody tr th:only-of-type {\n",
       "        vertical-align: middle;\n",
       "    }\n",
       "\n",
       "    .dataframe tbody tr th {\n",
       "        vertical-align: top;\n",
       "    }\n",
       "\n",
       "    .dataframe thead th {\n",
       "        text-align: right;\n",
       "    }\n",
       "</style>\n",
       "<table border=\"1\" class=\"dataframe\">\n",
       "  <thead>\n",
       "    <tr style=\"text-align: right;\">\n",
       "      <th></th>\n",
       "      <th>image_path</th>\n",
       "      <th>class_name</th>\n",
       "    </tr>\n",
       "  </thead>\n",
       "  <tbody>\n",
       "    <tr>\n",
       "      <th>0</th>\n",
       "      <td>/Users/joaojunqueira/Projetos/simple_cnn/noteb...</td>\n",
       "      <td>gallina</td>\n",
       "    </tr>\n",
       "    <tr>\n",
       "      <th>1</th>\n",
       "      <td>/Users/joaojunqueira/Projetos/simple_cnn/noteb...</td>\n",
       "      <td>gallina</td>\n",
       "    </tr>\n",
       "    <tr>\n",
       "      <th>2</th>\n",
       "      <td>/Users/joaojunqueira/Projetos/simple_cnn/noteb...</td>\n",
       "      <td>gallina</td>\n",
       "    </tr>\n",
       "    <tr>\n",
       "      <th>3</th>\n",
       "      <td>/Users/joaojunqueira/Projetos/simple_cnn/noteb...</td>\n",
       "      <td>gallina</td>\n",
       "    </tr>\n",
       "    <tr>\n",
       "      <th>4</th>\n",
       "      <td>/Users/joaojunqueira/Projetos/simple_cnn/noteb...</td>\n",
       "      <td>gallina</td>\n",
       "    </tr>\n",
       "    <tr>\n",
       "      <th>...</th>\n",
       "      <td>...</td>\n",
       "      <td>...</td>\n",
       "    </tr>\n",
       "    <tr>\n",
       "      <th>26174</th>\n",
       "      <td>/Users/joaojunqueira/Projetos/simple_cnn/noteb...</td>\n",
       "      <td>elefante</td>\n",
       "    </tr>\n",
       "    <tr>\n",
       "      <th>26175</th>\n",
       "      <td>/Users/joaojunqueira/Projetos/simple_cnn/noteb...</td>\n",
       "      <td>elefante</td>\n",
       "    </tr>\n",
       "    <tr>\n",
       "      <th>26176</th>\n",
       "      <td>/Users/joaojunqueira/Projetos/simple_cnn/noteb...</td>\n",
       "      <td>elefante</td>\n",
       "    </tr>\n",
       "    <tr>\n",
       "      <th>26177</th>\n",
       "      <td>/Users/joaojunqueira/Projetos/simple_cnn/noteb...</td>\n",
       "      <td>elefante</td>\n",
       "    </tr>\n",
       "    <tr>\n",
       "      <th>26178</th>\n",
       "      <td>/Users/joaojunqueira/Projetos/simple_cnn/noteb...</td>\n",
       "      <td>elefante</td>\n",
       "    </tr>\n",
       "  </tbody>\n",
       "</table>\n",
       "<p>26179 rows × 2 columns</p>\n",
       "</div>"
      ],
      "text/plain": [
       "                                              image_path class_name\n",
       "0      /Users/joaojunqueira/Projetos/simple_cnn/noteb...    gallina\n",
       "1      /Users/joaojunqueira/Projetos/simple_cnn/noteb...    gallina\n",
       "2      /Users/joaojunqueira/Projetos/simple_cnn/noteb...    gallina\n",
       "3      /Users/joaojunqueira/Projetos/simple_cnn/noteb...    gallina\n",
       "4      /Users/joaojunqueira/Projetos/simple_cnn/noteb...    gallina\n",
       "...                                                  ...        ...\n",
       "26174  /Users/joaojunqueira/Projetos/simple_cnn/noteb...   elefante\n",
       "26175  /Users/joaojunqueira/Projetos/simple_cnn/noteb...   elefante\n",
       "26176  /Users/joaojunqueira/Projetos/simple_cnn/noteb...   elefante\n",
       "26177  /Users/joaojunqueira/Projetos/simple_cnn/noteb...   elefante\n",
       "26178  /Users/joaojunqueira/Projetos/simple_cnn/noteb...   elefante\n",
       "\n",
       "[26179 rows x 2 columns]"
      ]
     },
     "execution_count": 5,
     "metadata": {},
     "output_type": "execute_result"
    }
   ],
   "source": [
    "df"
   ]
  },
  {
   "cell_type": "markdown",
   "id": "49fd5808",
   "metadata": {},
   "source": [
    "## Translating class names to english"
   ]
  },
  {
   "cell_type": "code",
   "execution_count": 10,
   "id": "8617c444",
   "metadata": {},
   "outputs": [],
   "source": [
    "translate = {\n",
    "    \"cane\": \"dog\",\n",
    "    \"cavallo\": \"horse\",\n",
    "    \"elefante\": \"elephant\",\n",
    "    \"farfalla\": \"butterfly\",\n",
    "    \"gallina\": \"chicken\",\n",
    "    \"gatto\": \"cat\",\n",
    "    \"mucca\": \"cow\",\n",
    "    \"pecora\": \"sheep\",\n",
    "    \"scoiattolo\": \"squirrel\",\n",
    "    \"ragno\": \"spider\",\n",
    "}"
   ]
  },
  {
   "cell_type": "code",
   "execution_count": 11,
   "id": "e7ecd1d5",
   "metadata": {},
   "outputs": [],
   "source": [
    "df.class_name = df.class_name.apply(lambda x: translate[x] if x in translate else x)"
   ]
  },
  {
   "cell_type": "code",
   "execution_count": 12,
   "id": "1b6c0b81",
   "metadata": {},
   "outputs": [
    {
     "data": {
      "text/plain": [
       "class_name\n",
       "dog          4863\n",
       "spider       4821\n",
       "chicken      3098\n",
       "horse        2623\n",
       "butterfly    2112\n",
       "cow          1866\n",
       "squirrel     1862\n",
       "sheep        1820\n",
       "cat          1668\n",
       "elephant     1446\n",
       "Name: count, dtype: int64"
      ]
     },
     "execution_count": 12,
     "metadata": {},
     "output_type": "execute_result"
    }
   ],
   "source": [
    "df.class_name.value_counts()"
   ]
  },
  {
   "cell_type": "code",
   "execution_count": 13,
   "id": "d74adbd2",
   "metadata": {},
   "outputs": [],
   "source": [
    "df.to_csv(\"../data/img_labels.csv\", index=False)"
   ]
  },
  {
   "cell_type": "code",
   "execution_count": null,
   "id": "8cb277b5",
   "metadata": {},
   "outputs": [],
   "source": []
  }
 ],
 "metadata": {
  "kernelspec": {
   "display_name": ".venv",
   "language": "python",
   "name": "python3"
  },
  "language_info": {
   "codemirror_mode": {
    "name": "ipython",
    "version": 3
   },
   "file_extension": ".py",
   "mimetype": "text/x-python",
   "name": "python",
   "nbconvert_exporter": "python",
   "pygments_lexer": "ipython3",
   "version": "3.10.0"
  }
 },
 "nbformat": 4,
 "nbformat_minor": 5
}
